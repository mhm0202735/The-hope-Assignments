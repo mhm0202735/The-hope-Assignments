{
  "nbformat": 4,
  "nbformat_minor": 0,
  "metadata": {
    "colab": {
      "provenance": []
    },
    "kernelspec": {
      "name": "python3",
      "display_name": "Python 3"
    },
    "language_info": {
      "name": "python"
    }
  },
  "cells": [
    {
      "cell_type": "code",
      "source": [
        "# Question 1 :\n",
        "\n",
        "# Write Python code that will do the following :\n",
        "\n",
        "# 1.1- Loop on numbers from -20 to 20\n",
        "\n",
        "# 1.2- Print -in one line- the numbers that is positive and even\n",
        "\n",
        "# 1.3- Print -in one line- the numbers that is negative and odd\n"
      ],
      "metadata": {
        "id": "5avOcsu2vo8h"
      },
      "execution_count": null,
      "outputs": []
    },
    {
      "cell_type": "code",
      "source": [
        "for i in range(-20,20):\n",
        "  if i >= 0 and i % 2 == 0:\n",
        "    print(i,end = ' ')\n",
        "print()\n",
        "for i in range(-20,20):\n",
        "  if i < 0 and i % 2 != 0:\n",
        "    print(i,end = ' ')\n"
      ],
      "metadata": {
        "id": "KYd5K3JBCaX8",
        "colab": {
          "base_uri": "https://localhost:8080/"
        },
        "outputId": "ab8e5000-ac70-4c33-9a33-ff8aa2e82016"
      },
      "execution_count": null,
      "outputs": [
        {
          "output_type": "stream",
          "name": "stdout",
          "text": [
            "0 2 4 6 8 10 12 14 16 18 \n",
            "-19 -17 -15 -13 -11 -9 -7 -5 -3 -1 "
          ]
        }
      ]
    },
    {
      "cell_type": "code",
      "source": [
        "# Question 2 :\n",
        "\n",
        "# Write Python code the will output the following\n",
        "\n",
        "\n",
        "# $$\n",
        "# $$$$\n",
        "# $$$$$$\n",
        "# $$$$$$$$\n",
        "# $$$$$$$$$$"
      ],
      "metadata": {
        "id": "G-uV5Q0XvWWC"
      },
      "execution_count": null,
      "outputs": []
    },
    {
      "cell_type": "code",
      "source": [
        "for i in range(1,6):\n",
        "  print('$'*(i*2))\n"
      ],
      "metadata": {
        "id": "I1cmyImVHo35",
        "colab": {
          "base_uri": "https://localhost:8080/"
        },
        "outputId": "70250928-b1c6-48d7-82d3-db05419fc2f1"
      },
      "execution_count": null,
      "outputs": [
        {
          "output_type": "stream",
          "name": "stdout",
          "text": [
            "$$\n",
            "$$$$\n",
            "$$$$$$\n",
            "$$$$$$$$\n",
            "$$$$$$$$$$\n"
          ]
        }
      ]
    },
    {
      "cell_type": "code",
      "source": [
        "# Question 3 :\n",
        "\n",
        "# Write Python code the will output the following\n",
        "for i in range(5,0,-1):\n",
        "  print('$'*(i*2-1))\n",
        "# $$$$$$$$$\n",
        "# $$$$$$$\n",
        "# $$$$$\n",
        "# $$$\n",
        "# $"
      ],
      "metadata": {
        "id": "T7_XMnuauhmE",
        "colab": {
          "base_uri": "https://localhost:8080/"
        },
        "outputId": "24bb87fd-caa4-4e02-b17d-3e08a7c26a16"
      },
      "execution_count": null,
      "outputs": [
        {
          "output_type": "stream",
          "name": "stdout",
          "text": [
            "$$$$$$$$$\n",
            "$$$$$$$\n",
            "$$$$$\n",
            "$$$\n",
            "$\n"
          ]
        }
      ]
    },
    {
      "cell_type": "code",
      "source": [],
      "metadata": {
        "id": "rc2mGZhYCz-N"
      },
      "execution_count": null,
      "outputs": []
    }
  ]
}