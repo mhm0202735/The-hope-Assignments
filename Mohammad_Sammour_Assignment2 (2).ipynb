{
  "nbformat": 4,
  "nbformat_minor": 0,
  "metadata": {
    "colab": {
      "provenance": []
    },
    "kernelspec": {
      "name": "python3",
      "display_name": "Python 3"
    },
    "language_info": {
      "name": "python"
    }
  },
  "cells": [
    {
      "cell_type": "markdown",
      "source": [
        "# slicing Assignment"
      ],
      "metadata": {
        "id": "O2nqmYlZyBSA"
      }
    },
    {
      "cell_type": "markdown",
      "source": [
        "# If you have the list that contains paths of image files\n"
      ],
      "metadata": {
        "id": "LKQYe0CGvNB3"
      }
    },
    {
      "cell_type": "code",
      "execution_count": null,
      "metadata": {
        "id": "ShfXH031sheP"
      },
      "outputs": [],
      "source": [
        "# list of imag\n",
        "list_paths = [\"C:/user/documnets/images/python/5.jpeg\",\n",
        "        \"C:/user/documnets/images/python/33.png\",\n",
        "        \"C:/user/documnets/images/python/3.jpeg\",\n",
        "        \"C:/user/documnets/images/python/48.png\",\n",
        "        \"C:/user/documnets/images/python/53.jpeg\",\n",
        "        \"C:/user/documnets/images/python/61.jpeg\",\n",
        "        \"C:/user/documnets/images/python/6.png\",\n",
        "        \"C:/user/documnets/images/python/74.jpeg\",\n",
        "        \"C:/user/documnets/images/python/8.jpeg\",\n",
        "        \"C:/user/documnets/images/python/19.jpeg\"]\n"
      ]
    },
    {
      "cell_type": "markdown",
      "source": [
        "# Q1- Select first five paths from a list"
      ],
      "metadata": {
        "id": "WMahNw7AvQSZ"
      }
    },
    {
      "cell_type": "code",
      "source": [
        "# Q1 solution :\n",
        "list_paths[:5]"
      ],
      "metadata": {
        "id": "1gwdCAwjveRI",
        "colab": {
          "base_uri": "https://localhost:8080/"
        },
        "outputId": "642b49e9-595b-4162-90e7-97999233f786"
      },
      "execution_count": null,
      "outputs": [
        {
          "output_type": "execute_result",
          "data": {
            "text/plain": [
              "['C:/user/documnets/images/python/5.jpeg',\n",
              " 'C:/user/documnets/images/python/33.png',\n",
              " 'C:/user/documnets/images/python/3.jpeg',\n",
              " 'C:/user/documnets/images/python/48.png',\n",
              " 'C:/user/documnets/images/python/53.jpeg']"
            ]
          },
          "metadata": {},
          "execution_count": 3
        }
      ]
    },
    {
      "cell_type": "markdown",
      "source": [
        "#Q2- Select last 3 paths from the list"
      ],
      "metadata": {
        "id": "YSrVmrsKvfE_"
      }
    },
    {
      "cell_type": "code",
      "source": [
        "# Q2 solution :\n",
        "list_paths[-3:]"
      ],
      "metadata": {
        "id": "QZ7x8g3Bvfim",
        "colab": {
          "base_uri": "https://localhost:8080/"
        },
        "outputId": "c5809935-e946-4a92-d266-456ee7d5a351"
      },
      "execution_count": null,
      "outputs": [
        {
          "output_type": "execute_result",
          "data": {
            "text/plain": [
              "['C:/user/documnets/images/python/74.jpeg',\n",
              " 'C:/user/documnets/images/python/8.jpeg',\n",
              " 'C:/user/documnets/images/python/19.jpeg']"
            ]
          },
          "metadata": {},
          "execution_count": 4
        }
      ]
    },
    {
      "cell_type": "markdown",
      "source": [
        "#Q3- Select the third path in a list and split it on '/'"
      ],
      "metadata": {
        "id": "PIq4Vb2zviDP"
      }
    },
    {
      "cell_type": "code",
      "source": [
        "# Q3 solution :\n",
        "list_paths[2].split('/')"
      ],
      "metadata": {
        "id": "HxVZuwQZvgSP",
        "colab": {
          "base_uri": "https://localhost:8080/"
        },
        "outputId": "f2ea5e1f-7e2d-46ff-cf6e-e6762088877f"
      },
      "execution_count": null,
      "outputs": [
        {
          "output_type": "execute_result",
          "data": {
            "text/plain": [
              "['C:', 'user', 'documnets', 'images', 'python', '3.jpeg']"
            ]
          },
          "metadata": {},
          "execution_count": 5
        }
      ]
    },
    {
      "cell_type": "markdown",
      "source": [
        "#Q4- In one line write a Python code to:\n",
        "\n",
        "1.  access to folder name 'images'\n",
        "2.  acess to file extension 'jpeg' or 'png'\n"
      ],
      "metadata": {
        "id": "l1r9sarNvigU"
      }
    },
    {
      "cell_type": "code",
      "source": [
        "# Q4.1 solution :\n",
        "list_paths[0].split('/')[3]"
      ],
      "metadata": {
        "id": "SXYG0l4SvgXd",
        "colab": {
          "base_uri": "https://localhost:8080/",
          "height": 36
        },
        "outputId": "87f2a0d5-ea22-4f1a-e087-d1a8e06b9eda"
      },
      "execution_count": null,
      "outputs": [
        {
          "output_type": "execute_result",
          "data": {
            "text/plain": [
              "'images'"
            ],
            "application/vnd.google.colaboratory.intrinsic+json": {
              "type": "string"
            }
          },
          "metadata": {},
          "execution_count": 6
        }
      ]
    },
    {
      "cell_type": "code",
      "source": [
        "# Q4.2 solution :\n",
        "list_paths[0].split('/')[-1].split('.')[-1]"
      ],
      "metadata": {
        "id": "2Z3ajsswxkIP",
        "colab": {
          "base_uri": "https://localhost:8080/",
          "height": 36
        },
        "outputId": "f479e86f-2a0f-4be8-9f01-c7a3f23c919c"
      },
      "execution_count": null,
      "outputs": [
        {
          "output_type": "execute_result",
          "data": {
            "text/plain": [
              "'jpeg'"
            ],
            "application/vnd.google.colaboratory.intrinsic+json": {
              "type": "string"
            }
          },
          "metadata": {},
          "execution_count": 7
        }
      ]
    },
    {
      "cell_type": "markdown",
      "source": [
        "#Q5- If you have two lists, loop on all paths in a list and add \"jpeg\" images in the first list and \"png\" images in the second list"
      ],
      "metadata": {
        "id": "vDpRv7oqvjXG"
      }
    },
    {
      "cell_type": "code",
      "source": [
        "# Q5 solution :\n",
        "list_jpeg = [i for i in list_paths if i.split('/')[-1].split('.')[-1] == 'jpeg']\n",
        "list_png = [i for i in list_paths if i.split('/')[-1].split('.')[-1] == 'png']\n",
        "print(list_jpeg)\n",
        "print(list_png)"
      ],
      "metadata": {
        "id": "0SZur5NSvgaH",
        "colab": {
          "base_uri": "https://localhost:8080/"
        },
        "outputId": "790c0d29-3bb5-464d-e0c0-cf57c1acfa32"
      },
      "execution_count": null,
      "outputs": [
        {
          "output_type": "stream",
          "name": "stdout",
          "text": [
            "['C:/user/documnets/images/python/5.jpeg', 'C:/user/documnets/images/python/3.jpeg', 'C:/user/documnets/images/python/53.jpeg', 'C:/user/documnets/images/python/61.jpeg', 'C:/user/documnets/images/python/74.jpeg', 'C:/user/documnets/images/python/8.jpeg', 'C:/user/documnets/images/python/19.jpeg']\n",
            "['C:/user/documnets/images/python/33.png', 'C:/user/documnets/images/python/48.png', 'C:/user/documnets/images/python/6.png']\n"
          ]
        }
      ]
    },
    {
      "cell_type": "markdown",
      "source": [
        "**Challenge your self 🤩**"
      ],
      "metadata": {
        "id": "3YTU_sMOz9rW"
      }
    },
    {
      "cell_type": "markdown",
      "source": [
        "# Q6- Create a new list that contains all images paths but in ascending order regardless of image type\n",
        "\n",
        "☕ **Take into consideration that the names of the images are a numbers**"
      ],
      "metadata": {
        "id": "ioGyoT9evj5b"
      }
    },
    {
      "cell_type": "code",
      "source": [
        "# Q6 solution:\n",
        "lst = []\n",
        "for i in list_paths:\n",
        "  lst.append(i.split('/')[-1].split('.')[0])\n",
        "lst_sorted = []\n",
        "for i in lst:\n",
        "  lst_sorted.append(int(i))\n",
        "lst_sorted.sort()\n",
        "final_list = []\n",
        "for i in lst_sorted:\n",
        "  for j in list_paths:\n",
        "    if i == int(j.split('/')[-1].split('.')[0]):\n",
        "      final_list.append(j)\n",
        "      break\n",
        "final_list"
      ],
      "metadata": {
        "id": "sYV71wZlvgck",
        "colab": {
          "base_uri": "https://localhost:8080/"
        },
        "outputId": "2ddc3ce3-cd58-41bc-9351-cef7e4629a2b"
      },
      "execution_count": null,
      "outputs": [
        {
          "output_type": "execute_result",
          "data": {
            "text/plain": [
              "['C:/user/documnets/images/python/3.jpeg',\n",
              " 'C:/user/documnets/images/python/5.jpeg',\n",
              " 'C:/user/documnets/images/python/6.png',\n",
              " 'C:/user/documnets/images/python/8.jpeg',\n",
              " 'C:/user/documnets/images/python/19.jpeg',\n",
              " 'C:/user/documnets/images/python/33.png',\n",
              " 'C:/user/documnets/images/python/48.png',\n",
              " 'C:/user/documnets/images/python/53.jpeg',\n",
              " 'C:/user/documnets/images/python/61.jpeg',\n",
              " 'C:/user/documnets/images/python/74.jpeg']"
            ]
          },
          "metadata": {},
          "execution_count": 11
        }
      ]
    },
    {
      "cell_type": "code",
      "source": [],
      "metadata": {
        "id": "FsJD5WaMvgfe"
      },
      "execution_count": null,
      "outputs": []
    }
  ]
}