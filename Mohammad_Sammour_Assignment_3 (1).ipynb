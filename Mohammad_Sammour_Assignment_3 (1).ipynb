{
  "nbformat": 4,
  "nbformat_minor": 0,
  "metadata": {
    "colab": {
      "provenance": []
    },
    "kernelspec": {
      "name": "python3",
      "display_name": "Python 3"
    },
    "language_info": {
      "name": "python"
    }
  },
  "cells": [
    {
      "cell_type": "code",
      "source": [
        "# Question 1 :\n",
        "# print number of ocurences for \"A\" character\n",
        "s = \"AAAVVDDEGAFASDFAA\""
      ],
      "metadata": {
        "id": "EZy13tt1TrX0"
      },
      "execution_count": null,
      "outputs": []
    },
    {
      "cell_type": "code",
      "source": [
        "dict_s = {}\n",
        "for i in s:\n",
        "  if i in dict_s.keys():\n",
        "    dict_s[i]+=1\n",
        "  else:\n",
        "    dict_s[i] = 1\n",
        "print(dict_s[\"A\"])"
      ],
      "metadata": {
        "colab": {
          "base_uri": "https://localhost:8080/"
        },
        "id": "gD7KxGZ2TMbg",
        "outputId": "c103fd1c-0793-4c42-8ca3-dcb2844b39f2"
      },
      "execution_count": null,
      "outputs": [
        {
          "output_type": "stream",
          "name": "stdout",
          "text": [
            "7\n"
          ]
        }
      ]
    },
    {
      "cell_type": "code",
      "source": [
        "# Question 2 :\n",
        "\n",
        "# If you have the follwing path in src variable\n",
        "\n",
        "src = \"C:/Folder1/Folder2/Folder3/data.csv\"\n",
        "\n",
        "# how can you extract the previous folder of the folder that contain a file data.csv\n",
        "\n",
        "# Example 1:\n",
        " # src = \"C:/Folder1/Folder2/Folder3/data.csv\"\n",
        " # output : C:/Folder1/Folder2\n",
        "\n",
        "\n",
        "# Example 2:\n",
        " # src = \"C:/Folder1/Folder2/Folder3/Folder4/data.csv\"\n",
        " # output : C:/Folder1/Folder2/Folder3\n",
        "\n"
      ],
      "metadata": {
        "id": "Q4BqwLx7jRPz"
      },
      "execution_count": null,
      "outputs": []
    },
    {
      "cell_type": "code",
      "source": [
        "\"/\".join(src.split('/')[:-2])"
      ],
      "metadata": {
        "id": "eCJANQetes_-",
        "colab": {
          "base_uri": "https://localhost:8080/",
          "height": 36
        },
        "outputId": "9b1c69ab-579b-426c-88b4-47bdfdf7ee7f"
      },
      "execution_count": null,
      "outputs": [
        {
          "output_type": "execute_result",
          "data": {
            "text/plain": [
              "'C:/Folder1/Folder2'"
            ],
            "application/vnd.google.colaboratory.intrinsic+json": {
              "type": "string"
            }
          },
          "metadata": {},
          "execution_count": 14
        }
      ]
    },
    {
      "cell_type": "code",
      "source": [
        "# Question 3 :\n",
        "# If you have the following paragraph\n",
        "# 1- Find the longest word and it's length\n",
        "# 2- Remove/Clean all numbers\n",
        "paragraph = \"\"\"Ronaldo still has one more year left to run on the contract\n",
        "               he signed with United in August 2021 and there is an option for that deal to be extended by a further 12 months.\n",
        "               The 37 year old has not taken part in any form of pre season training with United this\n",
        "               summer due to personal reasons Jul 18, 2022\"\"\"\n"
      ],
      "metadata": {
        "id": "W-0OVUivqDXE"
      },
      "execution_count": null,
      "outputs": []
    },
    {
      "cell_type": "code",
      "source": [
        "list_words = paragraph.split()\n",
        "set_words = set(list_words)\n",
        "set_words_without_nums = set()\n",
        "for i in set_words:\n",
        "  if not i.isdigit():\n",
        "    set_words_without_nums.add(i)\n",
        "set_words_without_nums.remove('18,')\n",
        "set_words_without_nums.remove(\"months.\")\n",
        "set_words_without_nums.add(\"months\")"
      ],
      "metadata": {
        "id": "4jowO4tTW5sh"
      },
      "execution_count": null,
      "outputs": []
    },
    {
      "cell_type": "code",
      "source": [
        "dict_length = dict()\n",
        "for i in set_words_without_nums:\n",
        "  dict_length[i] = len(i)"
      ],
      "metadata": {
        "id": "jr8HATNbXDtd"
      },
      "execution_count": null,
      "outputs": []
    },
    {
      "cell_type": "code",
      "source": [
        "for i,j in dict_length.items():\n",
        "  if j == sorted(dict_length.values(),reverse = True)[0]:\n",
        "    print(i)"
      ],
      "metadata": {
        "colab": {
          "base_uri": "https://localhost:8080/"
        },
        "id": "s1i6fgK0XDwi",
        "outputId": "7120e089-19f5-44b6-ba12-ebc4923516d4"
      },
      "execution_count": null,
      "outputs": [
        {
          "output_type": "stream",
          "name": "stdout",
          "text": [
            "extended\n",
            "contract\n",
            "training\n",
            "personal\n"
          ]
        }
      ]
    },
    {
      "cell_type": "code",
      "source": [
        "# Question 4\n",
        "# if you have the following list\n",
        "nums = [1,2,4,5,5,5,7,5,7,4,2,4]\n",
        "#1\n",
        "lst = []\n",
        "for i in nums:\n",
        "  if i not in lst:\n",
        "    lst.append(i)\n",
        "print(lst)\n",
        "#2\n",
        "for i in nums:\n",
        "  if nums.count(i) > 1:\n",
        "    for j in range(nums.count(i)-1):\n",
        "      nums.remove(i)\n",
        "\n",
        "print(nums)\n",
        "\n",
        "\n",
        "# 1- Remove redundant numbers in list without using set()\n",
        "# 2- Remove redundant numbers in-place ( modify on nums list) without using set()"
      ],
      "metadata": {
        "id": "rbZ7htsExZg6",
        "colab": {
          "base_uri": "https://localhost:8080/"
        },
        "outputId": "bbd93ce1-f78d-45dd-87d4-9d58f83aa944"
      },
      "execution_count": null,
      "outputs": [
        {
          "output_type": "stream",
          "name": "stdout",
          "text": [
            "[1, 2, 4, 5, 7]\n",
            "[1, 5, 7, 2, 4]\n"
          ]
        }
      ]
    },
    {
      "cell_type": "code",
      "source": [
        "# Question 5\n",
        "# If you have the following two lists\n",
        "l1 = [1,1,3,5,6,7,8,9,9]\n",
        "l2 = [1,2,4,5,6,8]\n",
        "print(sorted(list(set(l1).intersection(set(l2)))))\n",
        "# print out set of intersected items\n",
        "# output : [1,5,6,8]"
      ],
      "metadata": {
        "id": "h5IjSRAMCX1J",
        "colab": {
          "base_uri": "https://localhost:8080/"
        },
        "outputId": "5cb9d3cf-f8d5-45fc-9a5c-5f68d0f180a5"
      },
      "execution_count": null,
      "outputs": [
        {
          "output_type": "stream",
          "name": "stdout",
          "text": [
            "[1, 5, 6, 8]\n"
          ]
        }
      ]
    },
    {
      "cell_type": "code",
      "source": [
        "# Question 6\n",
        "# If you have the following list\n",
        "\n",
        "L = ['A', ['BB', ['CCC', 'DDD'], 'EE', (\"IIII\", \"JJJJ\", (\"KKKKK\", \"LLLLL\")), 'FF'], 'G', 'H']\n",
        "\n",
        "# Write python code to extract the following items from list\n",
        "\n",
        "# 1- BB\n",
        "print(L[1][0])\n",
        "# 2- G\n",
        "print(L[2])\n",
        "# 3- CCC\n",
        "print(L[1][1][0])\n",
        "# 4- ['CCC', 'DDD']\n",
        "print(L[1][1])\n",
        "# 5- IIII\n",
        "print(L[1][3][0])\n",
        "# 6- LLLLL\n",
        "print(L[1][3][2][1])\n",
        "# 7- (\"IIII\", \"JJJJ\", (\"KKKKK\", \"LLLLL\"))\n",
        "print(L[1][3])\n",
        "# 8- ['CCC', 'DDD'], 'EE'\n",
        "print(L[1][1:3])\n",
        "# 9- [['CCC', 'DDD'], (\"IIII\", \"JJJJ\", (\"KKKKK\", \"LLLLL\"))]\n",
        "K = L[1][1:4]\n",
        "K.pop(1)\n",
        "print(K)\n"
      ],
      "metadata": {
        "id": "OblBObGwI8Vi",
        "colab": {
          "base_uri": "https://localhost:8080/"
        },
        "outputId": "3fbf04c6-916a-4cb8-de12-aebc8e5b0ed5"
      },
      "execution_count": null,
      "outputs": [
        {
          "output_type": "stream",
          "name": "stdout",
          "text": [
            "BB\n",
            "G\n",
            "CCC\n",
            "['CCC', 'DDD']\n",
            "IIII\n",
            "LLLLL\n",
            "('IIII', 'JJJJ', ('KKKKK', 'LLLLL'))\n",
            "[['CCC', 'DDD'], 'EE']\n",
            "[['CCC', 'DDD'], ('IIII', 'JJJJ', ('KKKKK', 'LLLLL'))]\n"
          ]
        }
      ]
    },
    {
      "cell_type": "code",
      "source": [
        "# Question 7\n",
        "\n",
        "# If you have the following list\n",
        "\n",
        "# Write python code to to extract the following items from list\n",
        "\n",
        "# 1- ['A', 'B', 'C']\n",
        "# 2- 'bbbb'\n",
        "# 3- [{'1': 'c'}, {'2': 'cc'}, {'3': 'ccc'}]\n",
        "# 4- 'Amman'\n",
        "# 5- '12343456'\n",
        "# 6- ['+962111111111', '02123456']\n",
        "# 7- 'Jordan-Irbid-str5'\n",
        "\n",
        "listData = [\n",
        "\n",
        "    {\"A\": [\n",
        "        {\"1\": \"a\"},\n",
        "        {\"2\": \"aa\"},\n",
        "        {\"3\": \"aaa\"},\n",
        "        {\"3\": \"aaaa\"}\n",
        "    ]\n",
        "    },\n",
        "\n",
        "    {\"B\": [\n",
        "        {\"1\": \"b\"},\n",
        "        {\"2\": \"bb\"},\n",
        "        {\"3\": \"bbb\"},\n",
        "        {\"4\": \"bbbb\"}\n",
        "    ]\n",
        "    }\n",
        "\n",
        "    ,\n",
        "\n",
        "    {\"C\": [\n",
        "        {\"1\": \"c\"},\n",
        "        {\"2\": \"cc\"},\n",
        "        {\"3\": \"ccc\"},\n",
        "        {\"4\": \"cccc\"}\n",
        "    ]\n",
        "    },\n",
        "    {\"info\": {\n",
        "        \"country\": \"Jordan\",\n",
        "        \"city\": \"Amman\",\n",
        "        \"phoneNo\": [\n",
        "            \"+962111111111\",\n",
        "            \"02123456\",\n",
        "            \"12343456\"\n",
        "        ],\n",
        "\n",
        "        \"address\": {\n",
        "            \"address1\": \"Jordan-Amman-str1\",\n",
        "            \"address2\": \"Jordan-Irbid-str5\"\n",
        "        }}\n",
        "\n",
        "    }\n",
        "\n",
        "]\n",
        "#1\n",
        "lst = []\n",
        "for i in range(3):\n",
        "  for j in listData[i].keys():\n",
        "    lst.append(j)\n",
        "print(lst)\n",
        "#2\n",
        "print(listData[1][\"B\"][3]['4'])\n",
        "#3\n",
        "print(listData[2][\"C\"][:3])\n",
        "#4\n",
        "print(listData[3][\"info\"][\"city\"])\n",
        "#5\n",
        "print(listData[3][\"info\"][\"phoneNo\"][2])\n",
        "#6\n",
        "print(listData[3][\"info\"][\"phoneNo\"][:2])\n",
        "#7\n",
        "print(listData[3][\"info\"][\"address\"][\"address2\"])"
      ],
      "metadata": {
        "id": "SoficaD8-IN4",
        "colab": {
          "base_uri": "https://localhost:8080/"
        },
        "outputId": "392ffafb-4a66-4106-bc3d-cc02891ad4ab"
      },
      "execution_count": null,
      "outputs": [
        {
          "output_type": "stream",
          "name": "stdout",
          "text": [
            "['A', 'B', 'C']\n",
            "bbbb\n",
            "[{'1': 'c'}, {'2': 'cc'}, {'3': 'ccc'}]\n",
            "Amman\n",
            "12343456\n",
            "['+962111111111', '02123456']\n",
            "Jordan-Irbid-str5\n"
          ]
        }
      ]
    },
    {
      "cell_type": "code",
      "source": [
        "# Question 8\n",
        "# for the following dictionary :\n",
        "\n",
        "\n",
        "# Extract the following info :\n",
        "\n",
        "# 8.1\n",
        "# ['date', 'doctorName', 'doctorId', 'encounterNumber', 'doctorImage']\n",
        "\n",
        "\n",
        "# 8.2\n",
        "# Dr Mahmoud Hammouri\n",
        "\n",
        "dictPatientsData = {\n",
        "  \"timelines\": [\n",
        "    {\n",
        "      \"date\": \"2022-08-07T00:00:00\",\n",
        "      \"doctorName\": \"Dr Mahmoud\",\n",
        "      \"doctorId\": 101034,\n",
        "      \"encounterNumber\": 10443,\n",
        "      \"doctorImage\": \"medical-icon-registration\",\n",
        "      \"projectID\": 70,\n",
        "      \"projectName\": \"WebEMR UAT Hospital\",\n",
        "      \"clinicId\": 1,\n",
        "      \"clinicName\": \"INTERNAL MEDICINE CLINIC\",\n",
        "      \"timeLineEvents\": [\n",
        "        {\n",
        "          \"eventId\": 1,\n",
        "          \"iconClass\": \"fa fa-lg fa-stethoscope\",\n",
        "          \"colorClass\": \"bg-green\",\n",
        "          \"toolTip\": \"OPD Consultation detail\",\n",
        "          \"isDisabled\": False,\n",
        "          \"consulations\": [\n",
        "            {\n",
        "              \"dispalyName\": \"Episode\",\n",
        "              \"doctorID\": 101034,\n",
        "              \"patientID\": 123456,\n",
        "              \"doctorName\": \"Dr Mahmoud Hammouri\",\n",
        "              \"appointmentNo\": 10443,\n",
        "              \"episodeID\": 220011080,\n",
        "              \"admissionNo\": 0,\n",
        "              \"appointmentDate\": \"2022-08-07T00:00:00\",\n",
        "              \"episodeDate\": \"2022-08-07T00:00:00\"\n",
        "            }\n",
        "          ]\n",
        "        }\n",
        "      ]\n",
        "    },\n",
        "    {\n",
        "      \"date\": \"2022-07-31T00:00:00\",\n",
        "      \"doctorName\": \"Dr Mahmoud\",\n",
        "      \"doctorId\": 101044,\n",
        "      \"encounterNumber\": 10424,\n",
        "      \"doctorImage\": \"medical-icon-registration\",\n",
        "      \"projectID\": 70,\n",
        "      \"projectName\": \"WebEMR UAT Hospital\",\n",
        "      \"clinicId\": 31,\n",
        "      \"clinicName\": \"PSYCHIATRY\",\n",
        "      \"timeLineEvents\": [\n",
        "        {\n",
        "          \"eventId\": 1,\n",
        "          \"iconClass\": \"fa fa-lg fa-stethoscope\",\n",
        "          \"colorClass\": \"bg-green\",\n",
        "          \"toolTip\": \"OPD Consultation detail\",\n",
        "          \"isDisabled\": False,\n",
        "          \"consulations\": [\n",
        "            {\n",
        "              \"dispalyName\": \"Episode\",\n",
        "              \"doctorID\": 101044,\n",
        "              \"patientID\": 123456,\n",
        "              \"doctorName\": \"Dr Mahmoud\",\n",
        "              \"appointmentNo\": 10424,\n",
        "              \"episodeID\": 220011072,\n",
        "              \"admissionNo\": 0,\n",
        "              \"appointmentDate\": \"2022-07-31T00:00:00\",\n",
        "              \"episodeDate\": \"2022-07-31T00:00:00\"\n",
        "            }\n",
        "          ]\n",
        "        }\n",
        "      ]\n",
        "    },\n",
        "    {\n",
        "      \"date\": \"2022-07-28T00:00:00\",\n",
        "      \"doctorName\": \"Dr Bahaa\",\n",
        "      \"doctorId\": 101044,\n",
        "      \"encounterNumber\": 10423,\n",
        "      \"doctorImage\": \"medical-icon-registration\",\n",
        "      \"projectID\": 70,\n",
        "      \"projectName\": \"WebEMR UAT Hospital\",\n",
        "      \"clinicId\": 31,\n",
        "      \"clinicName\": \"PSYCHIATRY\",\n",
        "      \"timeLineEvents\": [\n",
        "        {\n",
        "          \"eventId\": 1,\n",
        "          \"iconClass\": \"fa fa-lg fa-stethoscope\",\n",
        "          \"colorClass\": \"bg-green\",\n",
        "          \"toolTip\": \"OPD Consultation detail\",\n",
        "          \"isDisabled\": False,\n",
        "          \"consulations\": [\n",
        "            {\n",
        "              \"dispalyName\": \"Episode\",\n",
        "              \"doctorID\": 101044,\n",
        "              \"patientID\": 123456,\n",
        "              \"doctorName\": \"Dr Bahaa\",\n",
        "              \"appointmentNo\": 10423,\n",
        "              \"episodeID\": 220011072,\n",
        "              \"admissionNo\": 0,\n",
        "              \"appointmentDate\": \"2022-07-28T00:00:00\",\n",
        "              \"episodeDate\": \"2022-07-28T00:00:00\"\n",
        "            }\n",
        "          ]\n",
        "        }\n",
        "      ]\n",
        "    },\n",
        "    {\n",
        "      \"date\": \"2022-06-02T00:00:00\",\n",
        "      \"doctorName\": \"Dr Mahmoud\",\n",
        "      \"doctorId\": 101034,\n",
        "      \"encounterNumber\": 10057,\n",
        "      \"doctorImage\": \"medical-icon-registration\",\n",
        "      \"projectID\": 70,\n",
        "      \"projectName\": \"WebEMR UAT Hospital\",\n",
        "      \"clinicId\": 1,\n",
        "      \"clinicName\": \"INTERNAL MEDICINE CLINIC\",\n",
        "      \"timeLineEvents\": [\n",
        "        {\n",
        "          \"eventId\": 1,\n",
        "          \"iconClass\": \"fa fa-lg fa-stethoscope\",\n",
        "          \"colorClass\": \"bg-green\",\n",
        "          \"toolTip\": \"OPD Consultation detail\",\n",
        "          \"isDisabled\": False,\n",
        "          \"consulations\": [\n",
        "            {\n",
        "              \"dispalyName\": \"Episode\",\n",
        "              \"doctorID\": 101034,\n",
        "              \"patientID\": 123456,\n",
        "              \"doctorName\": \"Dr Mahmoud\",\n",
        "              \"appointmentNo\": 10057,\n",
        "              \"episodeID\": 220011057,\n",
        "              \"admissionNo\": 0,\n",
        "              \"appointmentDate\": \"2022-06-02T00:00:00\",\n",
        "              \"episodeDate\": \"2022-06-02T00:00:00\"\n",
        "            }\n",
        "          ]\n",
        "        }\n",
        "      ]\n",
        "    }\n",
        "  ]\n",
        "}\n",
        "# Extract the following info :\n",
        "\n",
        "# 8.1\n",
        "# ['date', 'doctorName', 'doctorId', 'encounterNumber', 'doctorImage']\n",
        "lst = []\n",
        "\n",
        "for j in dictPatientsData[\"timelines\"][0].keys():\n",
        "  lst.append(j)\n",
        "lst = lst[:5]\n",
        "print(lst)\n",
        "\n",
        "# 8.2\n",
        "# Dr Mahmoud Hammouri\n",
        "print(dictPatientsData[\"timelines\"][0][\"timeLineEvents\"][0][\"consulations\"][0][\"doctorName\"])\n"
      ],
      "metadata": {
        "id": "jP1ZWnghLzIF",
        "colab": {
          "base_uri": "https://localhost:8080/"
        },
        "outputId": "7c29eb1c-bc2f-4c0f-fb2a-88e32b121a95"
      },
      "execution_count": null,
      "outputs": [
        {
          "output_type": "stream",
          "name": "stdout",
          "text": [
            "['date', 'doctorName', 'doctorId', 'encounterNumber', 'doctorImage']\n",
            "Dr Mahmoud Hammouri\n"
          ]
        }
      ]
    },
    {
      "cell_type": "code",
      "source": [],
      "metadata": {
        "id": "cv7Bw1_sL8Sv"
      },
      "execution_count": null,
      "outputs": []
    }
  ]
}