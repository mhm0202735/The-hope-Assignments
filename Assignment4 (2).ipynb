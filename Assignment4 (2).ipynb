{
  "nbformat": 4,
  "nbformat_minor": 0,
  "metadata": {
    "colab": {
      "provenance": []
    },
    "kernelspec": {
      "name": "python3",
      "display_name": "Python 3"
    },
    "language_info": {
      "name": "python"
    }
  },
  "cells": [
    {
      "cell_type": "markdown",
      "source": [
        "# Assignment 3"
      ],
      "metadata": {
        "id": "ilDwmeL07zip"
      }
    },
    {
      "cell_type": "markdown",
      "source": [
        "1. Read data.txt file\n",
        "2. Save data in dictionary where the key  is the student name and value as list of marks\n",
        "3. Don’t use built-in functions e.g. sum(), max(), min(), avg(), sort().\n",
        "4. Use math function pow() , sqrt()  \n",
        "5. Use functions to organize your code\n",
        "6. Use exceptions handling\n",
        "7. Create output dictionary file that contain the following info :  \n",
        "    7.1. maximum average with student name\n",
        "    7.2. Maximum mark with student name\n",
        "    7.3. Minimum average with student name\n",
        "    7.4. Minimum mark with student name\n",
        "    7.5. Standard deviation\n",
        "    7.6. Q1,Q2,Q3 , IQR\n",
        "    7.7. Most frequent mark\n",
        "8. Export the output dictionary as JSON file\n",
        "\n"
      ],
      "metadata": {
        "id": "B6qg9Tmt7kLa"
      }
    },
    {
      "cell_type": "code",
      "source": [
        "def read_txt(name_file):\n",
        "  dict_marks = dict()\n",
        "  with open(name_file,'r') as f:\n",
        "    for line in f:\n",
        "      dict_marks[line.split(',')[0]] = line.split(',')[1:]\n",
        "  return dict_marks"
      ],
      "metadata": {
        "id": "RkLofjjNL1dF"
      },
      "execution_count": null,
      "outputs": []
    },
    {
      "cell_type": "code",
      "source": [
        "dict_marks = read_txt(\"data.txt\")\n",
        "print(dict_marks)"
      ],
      "metadata": {
        "colab": {
          "base_uri": "https://localhost:8080/"
        },
        "id": "QUoOFhWLL1bX",
        "outputId": "e9095f14-45f7-49b3-efa8-c71a4ed12444"
      },
      "execution_count": null,
      "outputs": [
        {
          "output_type": "stream",
          "name": "stdout",
          "text": [
            "{'Ahmad': ['78', '99', '88', '89', '60\\n'], 'Tareq': ['90', ' 80', '95', '77', '76\\n'], 'Mahmoud': ['90', '96', '99', '98', '100\\n'], 'Khaled': ['50', '65', '77', '55', '87\\n'], 'Saba': ['88', '90', '94', '77', '87']}\n"
          ]
        }
      ]
    },
    {
      "cell_type": "code",
      "source": [
        "def delete_slash_n(dictionary):\n",
        "  for key,value in dictionary.items():\n",
        "    dictionary[key][-1] = dictionary[key][-1].strip()\n",
        "  return dictionary"
      ],
      "metadata": {
        "id": "QQ0I9LYPL1Yz"
      },
      "execution_count": null,
      "outputs": []
    },
    {
      "cell_type": "code",
      "source": [
        "dict_marks = delete_slash_n(dict_marks)"
      ],
      "metadata": {
        "id": "iiYC4-AdL1WS"
      },
      "execution_count": null,
      "outputs": []
    },
    {
      "cell_type": "code",
      "source": [
        "print(dict_marks)"
      ],
      "metadata": {
        "colab": {
          "base_uri": "https://localhost:8080/"
        },
        "id": "q8q2rrMnL1UC",
        "outputId": "ef41cb4b-5751-4588-c3f8-8fc844236330"
      },
      "execution_count": null,
      "outputs": [
        {
          "output_type": "stream",
          "name": "stdout",
          "text": [
            "{'Ahmad': ['78', '99', '88', '89', '60'], 'Tareq': ['90', ' 80', '95', '77', '76'], 'Mahmoud': ['90', '96', '99', '98', '100'], 'Khaled': ['50', '65', '77', '55', '87'], 'Saba': ['88', '90', '94', '77', '87']}\n"
          ]
        }
      ]
    },
    {
      "cell_type": "code",
      "source": [
        "for key,value in dict_marks.items():\n",
        "  for i in range(len(dict_marks[key])):\n",
        "    dict_marks[key][i] = int(dict_marks[key][i])\n",
        "print(dict_marks)"
      ],
      "metadata": {
        "id": "dUiqAkWFI34R",
        "colab": {
          "base_uri": "https://localhost:8080/"
        },
        "outputId": "32794a2c-b3aa-4201-c045-da0d0b7c3d3e"
      },
      "execution_count": null,
      "outputs": [
        {
          "output_type": "stream",
          "name": "stdout",
          "text": [
            "{'Ahmad': [78, 99, 88, 89, 60], 'Tareq': [90, 80, 95, 77, 76], 'Mahmoud': [90, 96, 99, 98, 100], 'Khaled': [50, 65, 77, 55, 87], 'Saba': [88, 90, 94, 77, 87]}\n"
          ]
        }
      ]
    },
    {
      "cell_type": "code",
      "execution_count": null,
      "metadata": {
        "id": "1bORl55K7bP9"
      },
      "outputs": [],
      "source": [
        "dict_output = {\n",
        "\n",
        "    \"MaxValue\": {\n",
        "        \"student_name\": \"\",\n",
        "        \"value\": \"\"\n",
        "    },\n",
        "    \"MaxAvg\": {\n",
        "        \"student_name\": \"\",\n",
        "        \"value\": \"\"\n",
        "    },\n",
        "\n",
        "    \"MinValue\": {\n",
        "        \"student_name\": \"\",\n",
        "        \"value\": \"\"\n",
        "    },\n",
        "    \"MinAvg\": {\n",
        "        \"student_name\": \"\",\n",
        "        \"value\": \"\"\n",
        "    },\n",
        "\n",
        "    \"standard_deviation\": \"\",\n",
        "    \"Q1\": \"\",\n",
        "    \"Q2\": \"\",\n",
        "    \"Q3\": \"\",\n",
        "    \"IQR\": \"\",\n",
        "    \"most_freq_value\": \"\"\n",
        "\n",
        "}"
      ]
    },
    {
      "cell_type": "code",
      "source": [
        "lst = []\n",
        "max_value = 0\n",
        "for key,value in dict_marks.items():\n",
        "  for i in value:\n",
        "    if i >= max_value:\n",
        "      max_value = i\n",
        "      lst.append(key)\n",
        "lst.append(max_value)\n",
        "lst = lst[-2:]"
      ],
      "metadata": {
        "id": "QG2BV5PWRB9Y"
      },
      "execution_count": null,
      "outputs": []
    },
    {
      "cell_type": "code",
      "source": [
        "dict_output['MaxValue']['student_name'] = lst[0]\n",
        "dict_output['MaxValue']['value'] = lst[-1]"
      ],
      "metadata": {
        "id": "0Yleb-j-Vq8B"
      },
      "execution_count": null,
      "outputs": []
    },
    {
      "cell_type": "code",
      "source": [
        "lst = []\n",
        "max_average = 0\n",
        "for key,value in dict_marks.items():\n",
        "  average = 0\n",
        "  sum = 0\n",
        "  count = 0\n",
        "  for i in value:\n",
        "    sum += i\n",
        "    count += 1\n",
        "  average = sum / count\n",
        "  if average>=max_average:\n",
        "    max_average = average\n",
        "    lst.append(key)\n",
        "lst.append(max_average)\n",
        "lst = lst[-2:]"
      ],
      "metadata": {
        "id": "GJWSXZUXWT72"
      },
      "execution_count": null,
      "outputs": []
    },
    {
      "cell_type": "code",
      "source": [
        "dict_output['MaxAvg']['student_name'] = lst[0]\n",
        "dict_output['MaxAvg']['value'] = lst[-1]"
      ],
      "metadata": {
        "id": "dfew0KTkaVmJ"
      },
      "execution_count": null,
      "outputs": []
    },
    {
      "cell_type": "code",
      "source": [
        "dict_output"
      ],
      "metadata": {
        "colab": {
          "base_uri": "https://localhost:8080/"
        },
        "id": "CArDmVEoaWhM",
        "outputId": "6e253397-cc49-4625-b92f-e4fa932ab0d4"
      },
      "execution_count": null,
      "outputs": [
        {
          "output_type": "execute_result",
          "data": {
            "text/plain": [
              "{'MaxValue': {'student_name': 'Mahmoud', 'value': 100},\n",
              " 'MaxAvg': {'student_name': 'Mahmoud', 'value': 96.6},\n",
              " 'MinValue': {'student_name': '', 'value': ''},\n",
              " 'MinAvg': {'student_name': '', 'value': ''},\n",
              " 'standard_deviation': '',\n",
              " 'Q1': '',\n",
              " 'Q2': '',\n",
              " 'Q3': '',\n",
              " 'IQR': '',\n",
              " 'most_freq_value': ''}"
            ]
          },
          "metadata": {},
          "execution_count": 21
        }
      ]
    },
    {
      "cell_type": "code",
      "source": [
        "lst = []\n",
        "min_value = dict_output['MaxValue']['value']\n",
        "for key,value in dict_marks.items():\n",
        "  for i in value:\n",
        "    if i <= min_value:\n",
        "      min_value = i\n",
        "      lst.append(key)\n",
        "lst.append(min_value)\n",
        "lst = lst[-2:]\n"
      ],
      "metadata": {
        "id": "o6bUe0Ycb3V5"
      },
      "execution_count": null,
      "outputs": []
    },
    {
      "cell_type": "code",
      "source": [
        "dict_output['MinValue']['student_name'] = lst[0]\n",
        "dict_output['MinValue']['value'] = lst[-1]"
      ],
      "metadata": {
        "id": "64t2FP-TcSsM"
      },
      "execution_count": null,
      "outputs": []
    },
    {
      "cell_type": "code",
      "source": [
        "print(dict_output)"
      ],
      "metadata": {
        "colab": {
          "base_uri": "https://localhost:8080/"
        },
        "id": "TOPk_sbmcTk1",
        "outputId": "cfc998a9-dcbb-4c32-f189-4a784a841050"
      },
      "execution_count": null,
      "outputs": [
        {
          "output_type": "stream",
          "name": "stdout",
          "text": [
            "{'MaxValue': {'student_name': 'Mahmoud', 'value': 100}, 'MaxAvg': {'student_name': 'Mahmoud', 'value': 96.6}, 'MinValue': {'student_name': 'Khaled', 'value': 50}, 'MinAvg': {'student_name': '', 'value': ''}, 'standard_deviation': '', 'Q1': '', 'Q2': '', 'Q3': '', 'IQR': '', 'most_freq_value': ''}\n"
          ]
        }
      ]
    },
    {
      "cell_type": "code",
      "source": [
        "lst = []\n",
        "min_average = dict_output[\"MaxAvg\"]['value']\n",
        "for key,value in dict_marks.items():\n",
        "  average = 0\n",
        "  sum = 0\n",
        "  count = 0\n",
        "  for i in value:\n",
        "    sum += i\n",
        "    count += 1\n",
        "  average = sum / count\n",
        "  if average<=min_average:\n",
        "    min_average = average\n",
        "    lst.append(key)\n",
        "lst.append(min_average)\n",
        "lst = lst[-2:]"
      ],
      "metadata": {
        "id": "Z5kjIgiQcvz5"
      },
      "execution_count": null,
      "outputs": []
    },
    {
      "cell_type": "code",
      "source": [
        "dict_output['MinAvg']['student_name'] = lst[0]\n",
        "dict_output['MinAvg']['value'] = lst[-1]"
      ],
      "metadata": {
        "id": "iWn-OrgTdMP1"
      },
      "execution_count": null,
      "outputs": []
    },
    {
      "cell_type": "code",
      "source": [
        "print(dict_output)"
      ],
      "metadata": {
        "colab": {
          "base_uri": "https://localhost:8080/"
        },
        "id": "TRqy1-vidNGq",
        "outputId": "925a3b1d-8b10-41ee-87eb-e68dd4ea9ae5"
      },
      "execution_count": null,
      "outputs": [
        {
          "output_type": "stream",
          "name": "stdout",
          "text": [
            "{'MaxValue': {'student_name': 'Mahmoud', 'value': 100}, 'MaxAvg': {'student_name': 'Mahmoud', 'value': 96.6}, 'MinValue': {'student_name': 'Khaled', 'value': 50}, 'MinAvg': {'student_name': 'Khaled', 'value': 66.8}, 'standard_deviation': '', 'Q1': '', 'Q2': '', 'Q3': '', 'IQR': '', 'most_freq_value': ''}\n"
          ]
        }
      ]
    },
    {
      "cell_type": "code",
      "source": [
        "import math\n",
        "def standard_deviation(values):\n",
        "  sum_of_difference = 0\n",
        "  average = 0\n",
        "  count = 0\n",
        "  sum = 0\n",
        "  for i in values:\n",
        "    sum += i\n",
        "    count += 1\n",
        "  average = sum / count\n",
        "  for i in values:\n",
        "    sum_of_difference+= abs(math.pow(i - average,2))\n",
        "  return math.sqrt(sum_of_difference/len(values))\n"
      ],
      "metadata": {
        "id": "K7uvJY9Fdea-"
      },
      "execution_count": null,
      "outputs": []
    },
    {
      "cell_type": "code",
      "source": [
        "lst_of_all_values = []\n",
        "for key,value in dict_marks.items():\n",
        "  for i in value:\n",
        "    lst_of_all_values.append(i)\n",
        "dict_output['standard_deviation'] = standard_deviation(lst_of_all_values)"
      ],
      "metadata": {
        "id": "ak_hJsLXeiBG",
        "colab": {
          "base_uri": "https://localhost:8080/"
        },
        "outputId": "22a7849f-8182-4796-9cee-c2b4f58415bd"
      },
      "execution_count": null,
      "outputs": [
        {
          "output_type": "stream",
          "name": "stdout",
          "text": [
            "{'MaxValue': {'student_name': 'Mahmoud', 'value': 100}, 'MaxAvg': {'student_name': 'Mahmoud', 'value': 96.6}, 'MinValue': {'student_name': 'Khaled', 'value': 50}, 'MinAvg': {'student_name': 'Khaled', 'value': 66.8}, 'standard_deviation': 13.620572675185135, 'Q1': '', 'Q2': '', 'Q3': '', 'IQR': '', 'most_freq_value': ''}\n"
          ]
        }
      ]
    },
    {
      "cell_type": "code",
      "source": [
        "def Q1(values):\n",
        "  values.sort()\n",
        "  index = math.ceil((len(values) + 1) / 4)\n",
        "  Q1_value = values[index - 1]\n",
        "  return Q1_value"
      ],
      "metadata": {
        "id": "e7KG7mAnek_w"
      },
      "execution_count": null,
      "outputs": []
    },
    {
      "cell_type": "code",
      "source": [
        "def Q2(values):\n",
        "  values.sort()\n",
        "  index = math.ceil((len(values) + 1) / 2)\n",
        "  Q2_value = values[index - 1]\n",
        "  return Q2_value"
      ],
      "metadata": {
        "id": "XvaI6EBd1h7l"
      },
      "execution_count": null,
      "outputs": []
    },
    {
      "cell_type": "code",
      "source": [
        "def Q3(values):\n",
        "  values.sort()\n",
        "  index = math.ceil((len(values) + 1) * (3/4))\n",
        "  Q3_value = values[index - 1]\n",
        "  return Q3_value"
      ],
      "metadata": {
        "id": "B24jjgEz1j7c"
      },
      "execution_count": null,
      "outputs": []
    },
    {
      "cell_type": "code",
      "source": [
        "dict_output['Q1'] = Q1(lst_of_all_values)\n",
        "dict_output['Q2'] = Q2(lst_of_all_values)\n",
        "dict_output['Q3'] = Q3(lst_of_all_values)\n",
        "dict_output[\"IQR\"] = Q3(lst_of_all_values) - Q1(lst_of_all_values)\n"
      ],
      "metadata": {
        "id": "0ApubIVQ2XML"
      },
      "execution_count": null,
      "outputs": []
    },
    {
      "cell_type": "code",
      "source": [
        "dict_most_frequent = dict()\n",
        "for i in lst_of_all_values:\n",
        "  if i in dict_most_frequent.keys():\n",
        "    dict_most_frequent[i]+=1\n",
        "  else:\n",
        "    dict_most_frequent[i] = 1"
      ],
      "metadata": {
        "id": "xPIljM_c2myc"
      },
      "execution_count": null,
      "outputs": []
    },
    {
      "cell_type": "code",
      "source": [
        "lst_of_max = []\n",
        "max_value_of_keys = 0\n",
        "for key,value in dict_most_frequent.items():\n",
        "  if value > max_value_of_keys:\n",
        "    max_value_of_keys = value"
      ],
      "metadata": {
        "id": "cr_He4Yk2otC"
      },
      "execution_count": null,
      "outputs": []
    },
    {
      "cell_type": "code",
      "source": [
        "final_values = [k for k, v in dict_most_frequent.items() if v == max_value_of_keys]"
      ],
      "metadata": {
        "id": "RSbtwyWB3nV8"
      },
      "execution_count": null,
      "outputs": []
    },
    {
      "cell_type": "code",
      "source": [
        "dict_output[\"most_freq_value\"] = final_values"
      ],
      "metadata": {
        "id": "MjKzGpps5xMW"
      },
      "execution_count": null,
      "outputs": []
    },
    {
      "cell_type": "code",
      "source": [
        "dict_output"
      ],
      "metadata": {
        "colab": {
          "base_uri": "https://localhost:8080/"
        },
        "id": "wn-M9qpv7H6o",
        "outputId": "8eb07146-08d1-4a52-b372-96c14300a7ea"
      },
      "execution_count": null,
      "outputs": [
        {
          "output_type": "execute_result",
          "data": {
            "text/plain": [
              "{'MaxValue': {'student_name': 'Mahmoud', 'value': 100},\n",
              " 'MaxAvg': {'student_name': 'Mahmoud', 'value': 96.6},\n",
              " 'MinValue': {'student_name': 'Khaled', 'value': 50},\n",
              " 'MinAvg': {'student_name': 'Khaled', 'value': 66.8},\n",
              " 'standard_deviation': 13.620572675185135,\n",
              " 'Q1': 77,\n",
              " 'Q2': 88,\n",
              " 'Q3': 95,\n",
              " 'IQR': 18,\n",
              " 'most_freq_value': [77, 90]}"
            ]
          },
          "metadata": {},
          "execution_count": 60
        }
      ]
    },
    {
      "cell_type": "code",
      "source": [],
      "metadata": {
        "id": "f3fkAl0G7RDU"
      },
      "execution_count": null,
      "outputs": []
    }
  ]
}