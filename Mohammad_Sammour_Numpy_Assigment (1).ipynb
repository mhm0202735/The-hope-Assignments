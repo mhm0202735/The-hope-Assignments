{
  "nbformat": 4,
  "nbformat_minor": 0,
  "metadata": {
    "colab": {
      "provenance": []
    },
    "kernelspec": {
      "name": "python3",
      "display_name": "Python 3"
    },
    "language_info": {
      "name": "python"
    }
  },
  "cells": [
    {
      "cell_type": "markdown",
      "source": [
        "Givien the following two ndarrays\n",
        "\n",
        "Where represents the Red and Green images\n",
        "\n",
        "Try to create an images as the given in the directory\n",
        "\n",
        "note : all output array shape should be as the shape of given arrays (1000,1000,\n",
        "3)\n",
        ", use needed libraries to reach the results"
      ],
      "metadata": {
        "id": "qRDcFcsQ-8Q0"
      }
    },
    {
      "cell_type": "code",
      "source": [
        "import numpy as np\n",
        "from PIL import Image"
      ],
      "metadata": {
        "id": "Xds1VWUA-77L"
      },
      "execution_count": null,
      "outputs": []
    },
    {
      "cell_type": "code",
      "execution_count": null,
      "metadata": {
        "id": "GdxGnTq2-4cA"
      },
      "outputs": [],
      "source": [
        "shape = (1000, 1000, 3)"
      ]
    },
    {
      "cell_type": "code",
      "source": [
        "# Red images\n",
        "\n",
        "red_arr = np.zeros(shape, dtype=np.uint8)\n",
        "red_arr[:, :, :] = [255, 0, 0]\n",
        "#from PIL import Image"
      ],
      "metadata": {
        "id": "lD35FZgS_ukJ"
      },
      "execution_count": null,
      "outputs": []
    },
    {
      "cell_type": "code",
      "source": [
        "# Green images\n",
        "\n",
        "green_arr = np.zeros(shape, dtype=np.uint8)\n",
        "green_arr[:, :, :] = [0, 255, 0]"
      ],
      "metadata": {
        "id": "-nqCD3zp_0UF"
      },
      "execution_count": null,
      "outputs": []
    },
    {
      "cell_type": "code",
      "source": [
        "# output 1\n",
        "half_red = np.split(red_arr,2,axis = 0)[0]\n",
        "half_green = np.split(green_arr,2,axis = 0)[0]\n",
        "photo = np.vstack((half_red,half_green))\n",
        "img = Image.fromarray(photo,'RGB')\n",
        "img.save('first.png')"
      ],
      "metadata": {
        "id": "byCySucU_3tX"
      },
      "execution_count": null,
      "outputs": []
    },
    {
      "cell_type": "code",
      "source": [
        "# output 2\n",
        "half_red = np.split(red_arr,2,axis = 1)[0]\n",
        "half_green = np.split(green_arr,2,axis = 1)[0]\n",
        "photo = np.hstack((half_red,half_green))\n",
        "img = Image.fromarray(photo,'RGB')\n",
        "img.save('second.png')\n"
      ],
      "metadata": {
        "id": "QFRKUbaSAKx0"
      },
      "execution_count": null,
      "outputs": []
    },
    {
      "cell_type": "code",
      "source": [
        "# output 3\n",
        "quarter_red = np.split(half_red,2,axis = 0)[0]\n",
        "quarter_green = np.split(half_green,2,axis = 0)[0]\n",
        "photo1 = np.vstack((quarter_red,quarter_green))\n",
        "photo2 = np.vstack((quarter_green,quarter_red))\n",
        "photo3 = np.hstack((photo1,photo2))\n",
        "img = Image.fromarray(photo3,'RGB')\n",
        "img.save('third.png')"
      ],
      "metadata": {
        "id": "ucdu-6PFAKvy"
      },
      "execution_count": null,
      "outputs": []
    },
    {
      "cell_type": "code",
      "source": [
        "# output 4\n",
        "first_red = np.split(red_arr,10,axis = 0)[0]\n",
        "first_green = np.split(green_arr,10,axis = 0)[0]\n",
        "photo = np.vstack((first_red,first_green))\n",
        "lst = [first_red,first_green]\n",
        "j = 0\n",
        "for i in range(8):\n",
        "  photo = np.vstack((photo,lst[j]))\n",
        "  j+=1\n",
        "  if j == 2:\n",
        "    j = 0\n",
        "img = Image.fromarray(photo,'RGB')\n",
        "img.save('fourth.png')"
      ],
      "metadata": {
        "id": "WUFwoTmIAKt6"
      },
      "execution_count": null,
      "outputs": []
    },
    {
      "cell_type": "code",
      "source": [
        "# output 5\n",
        "first_red = np.split(red_arr,10,axis = 1)[0]\n",
        "first_green = np.split(green_arr,10,axis = 1)[0]\n",
        "photo = np.hstack((first_red,first_green))\n",
        "lst = [first_red,first_green]\n",
        "j = 0\n",
        "for i in range(8):\n",
        "  photo = np.hstack((photo,lst[j]))\n",
        "  j+=1\n",
        "  if j == 2:\n",
        "    j = 0\n",
        "img = Image.fromarray(photo,'RGB')\n",
        "img.save('fifth.png')"
      ],
      "metadata": {
        "id": "5jAnCDm4AKrx"
      },
      "execution_count": null,
      "outputs": []
    },
    {
      "cell_type": "code",
      "source": [
        "# output 6\n",
        "first_red = np.split(red_arr,10,axis = 1)[0]\n",
        "first_red = np.split(first_red,10,axis = 0)[0]\n",
        "first_green = np.split(green_arr,10,axis = 1)[0]\n",
        "first_green = np.split(first_green,10,axis = 0)[0]\n",
        "lst = [first_red,first_green]\n",
        "j = 0\n",
        "photo = np.hstack((first_red,first_green))\n",
        "for i in range(8):\n",
        "  photo = np.hstack((photo,lst[j]))\n",
        "  j+=1\n",
        "  if j == 2:\n",
        "    j = 0\n",
        "lst = [first_green,first_red]\n",
        "photo2 = np.hstack((first_green,first_red))\n",
        "for i in range(8):\n",
        "  photo2 = np.hstack((photo2,lst[j]))\n",
        "  j+=1\n",
        "  if j == 2:\n",
        "    j = 0\n",
        "lst = [photo,photo2]\n",
        "j = 0\n",
        "photo3 = np.vstack((photo,photo2))\n",
        "for i in range(8):\n",
        "  photo3 = np.vstack((photo3,lst[j]))\n",
        "  j+=1\n",
        "  if j == 2:\n",
        "    j = 0\n",
        "img = Image.fromarray(photo3,'RGB')\n",
        "img.save('sixth.png')"
      ],
      "metadata": {
        "id": "f25Ny-PlANCH"
      },
      "execution_count": null,
      "outputs": []
    },
    {
      "cell_type": "code",
      "source": [],
      "metadata": {
        "id": "dfwSjAxSSvWq"
      },
      "execution_count": null,
      "outputs": []
    }
  ]
}